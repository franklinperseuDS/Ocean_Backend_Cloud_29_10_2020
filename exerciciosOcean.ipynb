{
  "nbformat": 4,
  "nbformat_minor": 0,
  "metadata": {
    "colab": {
      "name": "exerciciosOcean.ipynb",
      "provenance": [],
      "collapsed_sections": [],
      "authorship_tag": "ABX9TyOkN59+Kt3I+JcGTDnkShvh",
      "include_colab_link": true
    },
    "kernelspec": {
      "name": "python3",
      "display_name": "Python 3"
    }
  },
  "cells": [
    {
      "cell_type": "markdown",
      "metadata": {
        "id": "view-in-github",
        "colab_type": "text"
      },
      "source": [
        "<a href=\"https://colab.research.google.com/github/franklinperseuDS/Ocean_Backend_Cloud_29_10_2020/blob/main/exerciciosOcean.ipynb\" target=\"_parent\"><img src=\"https://colab.research.google.com/assets/colab-badge.svg\" alt=\"Open In Colab\"/></a>"
      ]
    },
    {
      "cell_type": "markdown",
      "metadata": {
        "id": "uKLjM53t2uhj"
      },
      "source": [
        "  \n",
        "﻿\"\"\"\n",
        "Exercício 13\n",
        "Nome: Convertendo Celsius/Farenheit\n",
        "Objetivo: Escrever duas funções de conversão, uma de graus celsius em farenheit e a outra que faça o contrário.\n",
        "Dificuldade: Principiante\n",
        "1 - Crie um aplicativo de conversão entre as temperaturas Celsius e Farenheit.\n",
        "2 - Primeiro o usuário deve escolher se vai entrar com a temperatura em Célsius ou Farenheit, depois a conversão escolhida é realizada.\n",
        "3 - Se C é a temperatura em Celsius e F em farenheit, as fórmulas de conversão são:\n",
        "C = 5 * (F - 32) / 9\n",
        "F = (9 * C / 5) + 32\n",
        "\"\"\"\n",
        "°F = °C × 1, 8 + 32    °C = (°F − 32) ÷ 1, 8"
      ]
    },
    {
      "cell_type": "code",
      "metadata": {
        "id": "3Nd6qSJs2qxt"
      },
      "source": [
        "def CelsiusToFarenheit(temperatura):\n",
        "  return (9*temperatura/5)+32\n",
        "\n",
        "def FarenheitToCelsius(temperatura):\n",
        "  return 5*(temperatura - 32)/9\n",
        "\n"
      ],
      "execution_count": 50,
      "outputs": []
    },
    {
      "cell_type": "code",
      "metadata": {
        "id": "olP4exbX3XAD"
      },
      "source": [
        "def main():\n",
        "  print(\"----------------Conversões-----------------------\")\n",
        "  escolha =  int(input(\"Você deseja fazer qual conversão : \\n (1) - Celsius para Farenheint \\n (2) - Farenheint para Celsius\\n (3) - Sair \\n\"))\n",
        "  if escolha != 3:\n",
        "    temperatura = float(input(\"digite o valor da temperatura \\n\"))\n",
        "    if escolha == 1:\n",
        "      print(f'{temperatura} Cº = {CelsiusToFarenheit(temperatura):.2f} Fº  ')\n",
        "    elif escolha == 2:\n",
        "      print(f'{temperatura} Fº =  {FarenheitToCelsius(temperatura):.2f} Cº')\n",
        "    else:\n",
        "      print(\"digito inválido\")\n",
        "      main()\n",
        "  \n",
        "  elif escolha == 3:\n",
        "    print(\"Obrigado por utilizar\")\n"
      ],
      "execution_count": 53,
      "outputs": []
    },
    {
      "cell_type": "code",
      "metadata": {
        "id": "D-GBajs74uia",
        "outputId": "d0fae254-dd2c-4966-b7df-d2cd867cdfe8",
        "colab": {
          "base_uri": "https://localhost:8080/"
        }
      },
      "source": [
        "main()"
      ],
      "execution_count": 54,
      "outputs": [
        {
          "output_type": "stream",
          "text": [
            "----------------Conversões-----------------------\n",
            "Você deseja fazer qual conversão : \n",
            " (1) - Celsius para Farenheint \n",
            " (2) - Farenheint para Celsius\\ (3) - Sair \n",
            "2\n",
            "digite o valor da temperatura \n",
            "100\n",
            "100.0 Fº =  37.78 Cº\n"
          ],
          "name": "stdout"
        }
      ]
    },
    {
      "cell_type": "markdown",
      "metadata": {
        "id": "sWikIKr963iB"
      },
      "source": [
        "﻿\"\"\"\n",
        "Exercício 12\n",
        "Nome: Praticando Funções\n",
        "Objetivo: Escrever diversas funções para reaproveitar trechos de código\n",
        "Dificuldade: Intermediário\n",
        "Escreva um código de modo que exiba o valor do x digitado pelo usuário e que seja\n",
        "substituído nas funções.\n",
        "1 - Sendo f(x) = 3x - 2 determine o valor de f(5) + f(0).\n",
        "2 - Na produção de peças, uma fábrica tem um custo fixo de R$ 30,00 mais um custo variável\n",
        "de R$ 2,00 por unidade produzida. Sendo x o número de peças unitárias produzidas, determine\n",
        "o custo de produção de 100 peças.\n",
        "3 - Crie uma função que receba 2 números e retorne o maior valor.\n",
        "4 - Crie uma função que receba 3 números e retorne o maior valor, use a função da questão 3.\n",
        "5 - Dadas as funções f(x) = x – 5 e g(x) = 3x + 1, crie um código que retorne o valor da\n",
        "soma de f(9) + g(2). Depois crie um código que retorne o valor da soma das duas funções\n",
        "com números digitados pelo usuário.\n",
        "6 - Considere as seguintes funções: f(x) = x - 4 e g(x) = 5x + 1.\n",
        "Qual é o valor da função composta g(f(3))? Depois crie um código que retorne o valor da\n",
        "soma das duas funções com números digitados pelo usuário.\n",
        "7 - Crie uma função chamada dado() que retorna, através de sorteio, um número de 1 até 6.\n",
        "Exiba 10 números sorteados utilizando a mesma função criada.\n",
        "Números aleatórios: random.randint(inicio, fim)\n",
        "\"\"\"\n"
      ]
    },
    {
      "cell_type": "code",
      "metadata": {
        "id": "7NtwOS9862vu"
      },
      "source": [
        "def Funcao1(x):\n",
        "  return 3x - 2\n",
        "\n",
        "x = input(\"Digite o valor de X\")"
      ],
      "execution_count": null,
      "outputs": []
    },
    {
      "cell_type": "code",
      "metadata": {
        "id": "NELtu4JeFaM5"
      },
      "source": [
        "def Pecas(x):\n",
        "  fixo = 30\n",
        "  adicional = 2\n",
        "  return fixo + x * adicional"
      ],
      "execution_count": null,
      "outputs": []
    },
    {
      "cell_type": "code",
      "metadata": {
        "id": "0pcf50KHFYaW"
      },
      "source": [
        "def Maior(num1,num2):\n",
        "  if num1 > num2:\n",
        "    return num1\n",
        "  else:\n",
        "    return num2"
      ],
      "execution_count": null,
      "outputs": []
    },
    {
      "cell_type": "code",
      "metadata": {
        "id": "Y2xy2wiwFXEr"
      },
      "source": [
        "def Maior2(num1,num2,num3)\n",
        "  comparativo = maior(num1,num2)\n",
        "  return maior(comparativo,num3)\n"
      ],
      "execution_count": null,
      "outputs": []
    },
    {
      "cell_type": "code",
      "metadata": {
        "id": "1gqdnDCFFVyI"
      },
      "source": [
        "\n",
        "def Funcao2(x):\n",
        "  return x -5"
      ],
      "execution_count": null,
      "outputs": []
    },
    {
      "cell_type": "code",
      "metadata": {
        "id": "bUboJu0FE92U"
      },
      "source": [
        "def Funcao3(g):\n",
        "  return 3*g + 1"
      ],
      "execution_count": null,
      "outputs": []
    },
    {
      "cell_type": "code",
      "metadata": {
        "id": "25igoWPvE-CO"
      },
      "source": [
        "def SomaFuncoes(y,z):\n",
        "  y = funcao2(y)\n",
        "  z = funcao3(z)\n",
        "  return y+z"
      ],
      "execution_count": null,
      "outputs": []
    },
    {
      "cell_type": "code",
      "metadata": {
        "id": "h9et6YFhE-KV"
      },
      "source": [
        "def RetornoSomaFuncoes():\n",
        "  numero1 = float(input(\"Digite um valor para a primeira função\\n\"))\n",
        "  numero2 = float(input(\"Digite um valor para a seunda função\\n\"))\n",
        "  print(SomaFuncoes(numero1,numero2)"
      ],
      "execution_count": null,
      "outputs": []
    },
    {
      "cell_type": "code",
      "metadata": {
        "id": "QmsVAfP1E-Rm"
      },
      "source": [
        "def Funcao4(x):\n",
        "  return x -4 "
      ],
      "execution_count": null,
      "outputs": []
    },
    {
      "cell_type": "code",
      "metadata": {
        "id": "_s5bwGmaE-aM"
      },
      "source": [
        "def Funcao5(y):\n",
        "  return 5 * y + 1"
      ],
      "execution_count": null,
      "outputs": []
    },
    {
      "cell_type": "code",
      "metadata": {
        "id": "xbqxIc828VEt",
        "outputId": "b3c93d38-cc74-4256-c6e6-6a6490dbbe07",
        "colab": {
          "base_uri": "https://localhost:8080/"
        }
      },
      "source": [
        "def TesteQ6():\n",
        "  resultado = funcao5(funcao4(3))"
      ],
      "execution_count": 31,
      "outputs": [
        {
          "output_type": "execute_result",
          "data": {
            "text/plain": [
              "10"
            ]
          },
          "metadata": {
            "tags": []
          },
          "execution_count": 31
        }
      ]
    },
    {
      "cell_type": "code",
      "metadata": {
        "id": "qtD0NZnMFJYI"
      },
      "source": [
        "def digitarQ6():\n",
        "  funcao4 = float(input(\"Digite um valor para a primeira função\\n\"))\n",
        "  funcao5 = float(input(\"Digite um valor para a seunda função\\n\"))\n",
        "  return (Funcao4(funcao4) + Funcao5(funcao5))"
      ],
      "execution_count": null,
      "outputs": []
    },
    {
      "cell_type": "code",
      "metadata": {
        "id": "VHd9m_ZuFK8x"
      },
      "source": [
        "questao6 = digitarQ6()\n",
        "print(questao6)"
      ],
      "execution_count": null,
      "outputs": []
    },
    {
      "cell_type": "code",
      "metadata": {
        "id": "zPVxN1C7FjYu",
        "outputId": "dd35ca92-9a18-4492-8a70-4daa5f22336b",
        "colab": {
          "base_uri": "https://localhost:8080/"
        }
      },
      "source": [
        "\"\"\"7 - Crie uma função chamada dado() que retorna, através de sorteio,\n",
        " um número de 1 até 6. Exiba 10 números sorteados utilizando a mesma\n",
        "  função criada. Números aleatórios: random.randint(inicio, fim)\"\"\" \n",
        "from random import randint\n",
        "\n",
        "def dado():\n",
        "  sorteados = []\n",
        "  for i in range(0,10):\n",
        "    sorteados.append(randint(0,6))\n",
        "  return sorteados\n",
        "\n",
        "sorteio = dado()\n",
        "print(f'tamanho {len(sorteio)}:{sorteio} ')\n"
      ],
      "execution_count": 46,
      "outputs": [
        {
          "output_type": "stream",
          "text": [
            "tamanho 10:[0, 0, 1, 6, 0, 0, 1, 5, 4, 5] \n"
          ],
          "name": "stdout"
        }
      ]
    },
    {
      "cell_type": "markdown",
      "metadata": {
        "id": "rXVJ2d9XUPg6"
      },
      "source": [
        "#Lista\n"
      ]
    },
    {
      "cell_type": "code",
      "metadata": {
        "id": "1HH5TLdXUSIE",
        "outputId": "fc713e7c-cb7d-4693-e9b6-b7bcd43ce527",
        "colab": {
          "base_uri": "https://localhost:8080/"
        }
      },
      "source": [
        "lista = [10,30,5,4,8,12,15,17,20]\n",
        "\n",
        "print(lista, type(lista))\n",
        "\n",
        "print(lista[0], type(lista[0])) # acessando posições\n",
        "\n",
        "print(lista[-3:])\n",
        "\n"
      ],
      "execution_count": 62,
      "outputs": [
        {
          "output_type": "stream",
          "text": [
            "[10, 30, 5, 4, 8, 12, 15, 17, 20] <class 'list'>\n",
            "10 <class 'int'>\n",
            "[15, 17, 20]\n"
          ],
          "name": "stdout"
        }
      ]
    },
    {
      "cell_type": "code",
      "metadata": {
        "id": "WfgRPQ83U2jb"
      },
      "source": [
        "nome = \"catdogfrog\"\n",
        "cat = nome[0:3]\n",
        "dog = nome[3:6]\n",
        "frog = nome[6:]\n",
        "print(cat,dog,frog)"
      ],
      "execution_count": 63,
      "outputs": []
    },
    {
      "cell_type": "code",
      "metadata": {
        "id": "hQ6sdLUhUpDH",
        "outputId": "8ceb2ce8-dcda-4104-9f0f-d0ca5952afeb",
        "colab": {
          "base_uri": "https://localhost:8080/"
        }
      },
      "source": [
        "animais=['morcego','papagaio','leão','leopardo','vaca','cachorro']\n",
        "print(animais)\n",
        "animais.append('girafa') # adicionando ao final\n",
        "print(animais)\n",
        "animais.insert(1,'gato')\n",
        "print(animais)\n",
        "print(animais.index('girafa'))\n",
        "\n",
        "animais.remove('leão')\n",
        "print(animais)\n",
        "\n",
        "del(animais[1])\n",
        "print(animais)\n",
        "\n",
        "animais.pop() # remove o ultimo\n",
        "print(animais)\n",
        "animais.pop(2) # apaga o indice \n",
        "print(animais)"
      ],
      "execution_count": 69,
      "outputs": [
        {
          "output_type": "stream",
          "text": [
            "['morcego', 'papagaio', 'leão', 'leopardo', 'vaca', 'cachorro']\n",
            "['morcego', 'papagaio', 'leão', 'leopardo', 'vaca', 'cachorro', 'girafa']\n",
            "['morcego', 'gato', 'papagaio', 'leão', 'leopardo', 'vaca', 'cachorro', 'girafa']\n",
            "7\n",
            "['morcego', 'gato', 'papagaio', 'leopardo', 'vaca', 'cachorro', 'girafa']\n",
            "['morcego', 'papagaio', 'leopardo', 'vaca', 'cachorro', 'girafa']\n",
            "['morcego', 'papagaio', 'leopardo', 'vaca', 'cachorro']\n",
            "['morcego', 'papagaio', 'vaca', 'cachorro']\n"
          ],
          "name": "stdout"
        }
      ]
    },
    {
      "cell_type": "code",
      "metadata": {
        "id": "-Kuaes74ciUn"
      },
      "source": [
        "msg = animais.pop(-1)"
      ],
      "execution_count": 70,
      "outputs": []
    },
    {
      "cell_type": "code",
      "metadata": {
        "id": "RpjUgjlqUiDY",
        "outputId": "c15fd2cb-b88d-403a-9da5-9afe58bca4ee",
        "colab": {
          "base_uri": "https://localhost:8080/",
          "height": 35
        }
      },
      "source": [
        "msg"
      ],
      "execution_count": 71,
      "outputs": [
        {
          "output_type": "execute_result",
          "data": {
            "application/vnd.google.colaboratory.intrinsic+json": {
              "type": "string"
            },
            "text/plain": [
              "'cachorro'"
            ]
          },
          "metadata": {
            "tags": []
          },
          "execution_count": 71
        }
      ]
    },
    {
      "cell_type": "code",
      "metadata": {
        "id": "vAMTpuJ3izOS",
        "outputId": "2a66cc60-bd18-4d20-ca81-57c79aeae5f6",
        "colab": {
          "base_uri": "https://localhost:8080/"
        }
      },
      "source": [
        "animais=['morcego','papagaio','leão','leopardo','vaca','cachorro']\n",
        "for animal in animais:\n",
        "  print(animal)"
      ],
      "execution_count": 72,
      "outputs": [
        {
          "output_type": "stream",
          "text": [
            "morcego\n",
            "papagaio\n",
            "leão\n",
            "leopardo\n",
            "vaca\n",
            "cachorro\n"
          ],
          "name": "stdout"
        }
      ]
    },
    {
      "cell_type": "code",
      "metadata": {
        "id": "VhAHu5ITjsT5",
        "outputId": "99e24a06-5586-4e82-f3aa-e4da17637e57",
        "colab": {
          "base_uri": "https://localhost:8080/"
        }
      },
      "source": [
        "lista = []\n",
        "for i in range(0,10):\n",
        "  lista.append(i*2)\n",
        "\n",
        "for item in lista:\n",
        "  if item >= 5 and item <= 10:\n",
        "    print(item)"
      ],
      "execution_count": 82,
      "outputs": [
        {
          "output_type": "stream",
          "text": [
            "6\n",
            "8\n",
            "10\n"
          ],
          "name": "stdout"
        }
      ]
    },
    {
      "cell_type": "code",
      "metadata": {
        "id": "_lBqAq_Nn1Jm",
        "outputId": "ca6e9721-3004-4d9b-ca36-5a82e078d946",
        "colab": {
          "base_uri": "https://localhost:8080/"
        }
      },
      "source": [
        "qtd_elementos = int(input(\"digite a quantidade de elementos desejada\"))\n",
        "\n",
        "numeros= []\n",
        "\n",
        "for indice in range(qtd_elementos):\n",
        "  numero_digitado = int(input(\"digite um número: \"))\n",
        "  numeros.append(numero_digitado)\n",
        "\n",
        "print(\"a minha lista de numeros ficou: \", numeros)"
      ],
      "execution_count": 85,
      "outputs": [
        {
          "output_type": "stream",
          "text": [
            "digite a quantidade de elementos desejada2\n",
            "digite um número: 3\n",
            "digite um número: 4\n",
            "a minha lista de numeros ficou:  [3, 4]\n"
          ],
          "name": "stdout"
        }
      ]
    },
    {
      "cell_type": "code",
      "metadata": {
        "id": "wHzJgkwApdxP",
        "outputId": "c9248537-f179-498d-a103-1bd3fe1546e8",
        "colab": {
          "base_uri": "https://localhost:8080/",
          "height": 300
        }
      },
      "source": [
        "tupla = 5,3,4\n",
        "print(type(tupla))\n",
        "teste1 = (5)\n",
        "print(f\"com parenteses sem virgula não é uma tupla {type(teste1)}\")\n",
        "\n",
        "teste1 = (5,)\n",
        "print(f\"com parenteses c virgula é uma tupla {type(teste1)}\")\n",
        "\n",
        "lista_convertida = list(tupla)\n",
        "print(lista_convertida, type(lista_convertida))\n",
        "#desconstruindo a tupla\n",
        "numero1 , numero2, numero3 = tupla\n",
        "\n",
        "print(numero1,numero2,numero3)"
      ],
      "execution_count": 91,
      "outputs": [
        {
          "output_type": "stream",
          "text": [
            "<class 'tuple'>\n",
            "com parenteses sem virgula não é uma tupla <class 'int'>\n",
            "com parenteses c virgula é uma tupla <class 'tuple'>\n",
            "[5, 3, 4] <class 'list'>\n"
          ],
          "name": "stdout"
        },
        {
          "output_type": "error",
          "ename": "ValueError",
          "evalue": "ignored",
          "traceback": [
            "\u001b[0;31m---------------------------------------------------------------------------\u001b[0m",
            "\u001b[0;31mValueError\u001b[0m                                Traceback (most recent call last)",
            "\u001b[0;32m<ipython-input-91-9332022986a7>\u001b[0m in \u001b[0;36m<module>\u001b[0;34m()\u001b[0m\n\u001b[1;32m     10\u001b[0m \u001b[0mprint\u001b[0m\u001b[0;34m(\u001b[0m\u001b[0mlista_convertida\u001b[0m\u001b[0;34m,\u001b[0m \u001b[0mtype\u001b[0m\u001b[0;34m(\u001b[0m\u001b[0mlista_convertida\u001b[0m\u001b[0;34m)\u001b[0m\u001b[0;34m)\u001b[0m\u001b[0;34m\u001b[0m\u001b[0;34m\u001b[0m\u001b[0m\n\u001b[1;32m     11\u001b[0m \u001b[0;34m\u001b[0m\u001b[0m\n\u001b[0;32m---> 12\u001b[0;31m \u001b[0mnumero1\u001b[0m \u001b[0;34m,\u001b[0m \u001b[0mnumero2\u001b[0m \u001b[0;34m=\u001b[0m \u001b[0mtupla\u001b[0m\u001b[0;34m\u001b[0m\u001b[0;34m\u001b[0m\u001b[0m\n\u001b[0m\u001b[1;32m     13\u001b[0m \u001b[0;34m\u001b[0m\u001b[0m\n\u001b[1;32m     14\u001b[0m \u001b[0mprint\u001b[0m\u001b[0;34m(\u001b[0m\u001b[0mnumero1\u001b[0m\u001b[0;34m,\u001b[0m\u001b[0mnumero2\u001b[0m\u001b[0;34m,\u001b[0m\u001b[0mnumero3\u001b[0m\u001b[0;34m)\u001b[0m\u001b[0;34m\u001b[0m\u001b[0;34m\u001b[0m\u001b[0m\n",
            "\u001b[0;31mValueError\u001b[0m: too many values to unpack (expected 2)"
          ]
        }
      ]
    },
    {
      "cell_type": "markdown",
      "metadata": {
        "id": "_gPz3Tr6sjCt"
      },
      "source": [
        "#Exercicio 4\n",
        "\n",
        "- peça para o usuario digitar 5 numeros\n",
        "adicione em uma lista\n",
        "utilizar for para exibir quando for par ou umpar\n"
      ]
    },
    {
      "cell_type": "code",
      "metadata": {
        "id": "RABgSepOqn0_",
        "outputId": "d282451d-78d3-4307-f5c6-717803f3193c",
        "colab": {
          "base_uri": "https://localhost:8080/"
        }
      },
      "source": [
        "lista = []\n",
        "\n",
        "for i in range(5):\n",
        "  numero = int(input(f\"digite {i + 1}º  um numero : \"))\n",
        "  lista.append(numero)\n",
        "\n",
        "for item in lista:\n",
        "  if item % 2 == 0:\n",
        "    print(f'{item} - é Par')\n",
        "  else:\n",
        "    print(f'{item} - é impar')"
      ],
      "execution_count": 100,
      "outputs": [
        {
          "output_type": "stream",
          "text": [
            "digite 1º  um numero : 2\n",
            "digite 2º  um numero : 3\n",
            "digite 3º  um numero : 4\n",
            "digite 4º  um numero : 5\n",
            "digite 5º  um numero : 6\n",
            "2 - é Par\n",
            "3 - é impar\n",
            "4 - é Par\n",
            "5 - é impar\n",
            "6 - é Par\n"
          ],
          "name": "stdout"
        }
      ]
    },
    {
      "cell_type": "code",
      "metadata": {
        "id": "wpQOfEE0phVB",
        "outputId": "a967552e-009d-47cb-8325-cd5f4936d3cd",
        "colab": {
          "base_uri": "https://localhost:8080/"
        }
      },
      "source": [
        "\n",
        "pessoa = {\n",
        "    'nome':\"Franklin\",\n",
        "    'sobrenome':\"perseu\",\n",
        "    'idade':31\n",
        "}\n",
        "print(f'Nome: {pessoa[\"nome\"]}\\n Sobrenome: {pessoa[\"sobrenome\"]}\\n Idade: {pessoa[\"idade\"]}')"
      ],
      "execution_count": 109,
      "outputs": [
        {
          "output_type": "stream",
          "text": [
            "Nome: Franklin\n",
            " Sobrenome: perseu\n",
            " Idade: 31\n"
          ],
          "name": "stdout"
        }
      ]
    }
  ]
}